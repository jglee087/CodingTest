{
 "cells": [
  {
   "cell_type": "markdown",
   "metadata": {},
   "source": [
    "# BaekJoon Stage 10(수학 2)"
   ]
  },
  {
   "cell_type": "markdown",
   "metadata": {},
   "source": [
    "# Problem 1978. 소수 찾기"
   ]
  },
  {
   "cell_type": "code",
   "execution_count": null,
   "metadata": {},
   "outputs": [],
   "source": [
    "n1=int(input())\n",
    "n2=list(map(int,input().split()))\n",
    "\n",
    "co=0\n",
    "\n",
    "for i in range(n1):\n",
    "\n",
    "    a=n2[i]\n",
    "    s=2\n",
    "    k=''\n",
    "\n",
    "    if a != 1:    \n",
    "        while s < a:\n",
    "\n",
    "            if a%s == 0:\n",
    "                k='True'\n",
    "                break\n",
    "        \n",
    "            s=s+1\n",
    "        \n",
    "        if k != 'True':\n",
    "            co=co+1\n",
    "\n",
    "print(co)"
   ]
  },
  {
   "cell_type": "markdown",
   "metadata": {},
   "source": [
    "# Problem 2581. 소수 찾기 2"
   ]
  },
  {
   "cell_type": "code",
   "execution_count": null,
   "metadata": {},
   "outputs": [],
   "source": [
    "n1=int(input())\n",
    "n2=int(input())\n",
    "\n",
    "pn=[]\n",
    "\n",
    "for i in range(n1,n2+1):\n",
    "\n",
    "    s=2\n",
    "    k=''\n",
    "\n",
    "    if i != 1:\n",
    "        \n",
    "        while s < i:\n",
    "            if i%s == 0:\n",
    "                k='True'\n",
    "                break\n",
    "        \n",
    "            s=s+1\n",
    "            \n",
    "        if k != 'True':\n",
    "            pn.append(i)\n",
    "\n",
    "if pn == []:\n",
    "    print(-1)\n",
    "else:\n",
    "    print(sum(pn))\n",
    "    print(min(pn))"
   ]
  },
  {
   "cell_type": "code",
   "execution_count": null,
   "metadata": {},
   "outputs": [],
   "source": []
  }
 ],
 "metadata": {
  "kernelspec": {
   "display_name": "Python 3",
   "language": "python",
   "name": "python3"
  },
  "language_info": {
   "codemirror_mode": {
    "name": "ipython",
    "version": 3
   },
   "file_extension": ".py",
   "mimetype": "text/x-python",
   "name": "python",
   "nbconvert_exporter": "python",
   "pygments_lexer": "ipython3",
   "version": "3.7.4"
  }
 },
 "nbformat": 4,
 "nbformat_minor": 2
}
