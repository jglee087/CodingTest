{
 "cells": [
  {
   "cell_type": "markdown",
   "metadata": {},
   "source": [
    "# BaekJoon Stage 9(Mathematics 1)"
   ]
  },
  {
   "cell_type": "markdown",
   "metadata": {},
   "source": [
    "# Problem 1712. 손익분기점\n",
    "- 문제: 월드전자는 노트북을 제조하고 판매하는 회사이다. 노트북 판매 대수에 상관없이 매년 임대료, 재산세, 보험료, 급여 등 A만원의 고정 비용이 들며, 한 대의 노트북을 생산하는 데에는 재료비와 인건비 등 총 B만원의 가변 비용이 든다고 한다. 예를 들어 A=1,000, B=70이라고 하자. 이 경우 노트북을 한 대 생산하는 데는 총 1,070만원이 들며, 열 대 생산하는 데는 총 1,700만원이 든다. 노트북 가격이 C만원으로 책정되었다고 한다. 일반적으로 생산 대수를 늘려 가다 보면 어느 순간 총 수입(판매비용)이 총 비용(=고정비용+가변비용)보다 많아지게 된다. 최초로 총 수입이 총 비용보다 많아져 이익이 발생하는 지점을 손익분기점(BREAK-EVEN POINT)이라고 한다. A, B, C가 주어졌을 때, 손익분기점을 구하는 프로그램을 작성하시오.\n",
    "- 입력: 첫째 줄에 A, B, C가 빈 칸을 사이에 두고 순서대로 주어진다. A, B, C는 21억 이하의 자연수이다.\n",
    "- 출력: 첫 번째 줄에 손익분기점 즉 최초로 이익이 발생하는 판매량을 출력한다. 손익분기점이 존재하지 않으면 -1을 출력한다."
   ]
  },
  {
   "cell_type": "code",
   "execution_count": null,
   "metadata": {},
   "outputs": [],
   "source": [
    "n1, n2, n3= map(float,input().split())\n",
    "\n",
    "if n2>=n3:\n",
    "    print(-1)\n",
    "else:\n",
    "    s=int(n1//(n3-n2))+1\n",
    "    print(s)\n"
   ]
  },
  {
   "cell_type": "code",
   "execution_count": null,
   "metadata": {},
   "outputs": [],
   "source": []
  },
  {
   "cell_type": "markdown",
   "metadata": {},
   "source": [
    "# Problem 2292. 벌집 \n",
    "\n",
    "- 위의 그림과 같이 육각형으로 이루어진 벌집이 있다. 그림에서 보는 바와 같이 중앙의 방 1부터 시작해서 이웃하는 방에 돌아가면서 1씩 증가하는 번호를 주소로 매길 수 있다. 숫자 N이 주어졌을 때, 벌집의 중앙 1에서 N번 방까지 최소 개수의 방을 지나서 갈 때 몇 개의 방을 지나가는지(시작과 끝을 포함하여)를 계산하는 프로그램을 작성하시오. 예를 들면, 13까지는 3개, 58까지는 5개를 지난다.\n",
    "\n",
    "- 입력: 첫째 줄에 N(1 ≤ N ≤ 1,000,000,000)이 주어진다.\n",
    "- 출력: 입력으로 주어진 방까지 최소 개수의 방을 지나서 갈 때 몇 개의 방을 지나는지 출력한다."
   ]
  },
  {
   "cell_type": "code",
   "execution_count": 1,
   "metadata": {},
   "outputs": [
    {
     "name": "stdout",
     "output_type": "stream",
     "text": [
      "10\n",
      "3\n"
     ]
    }
   ],
   "source": [
    "n1=int(input())\n",
    "\n",
    "a1=1; a2=1;\n",
    "v1=[]; v2=[];\n",
    "\n",
    "for i in range(22258):  #5774\n",
    "\n",
    "    tmp=6*(i+1)\n",
    "    \n",
    "    a2 = a2+ tmp\n",
    "    a1 = a2- tmp +1\n",
    "\n",
    "    v1.append(a1)\n",
    "    v2.append(a2)\n",
    "\n",
    "\n",
    "for j in range(22258):\n",
    "    if v1[j] <= n1 <= v2[j]:\n",
    "        print(j+2)\n",
    "        \n",
    "if n1 == 1:\n",
    "    print(n1)\n"
   ]
  },
  {
   "cell_type": "code",
   "execution_count": 2,
   "metadata": {},
   "outputs": [
    {
     "name": "stdout",
     "output_type": "stream",
     "text": [
      "10\n",
      "3\n"
     ]
    }
   ],
   "source": [
    "N = int(input())\n",
    "first = 1\n",
    "plus = 6\n",
    "room = 1\n",
    "\n",
    "if N == 1:\n",
    "    print(1)\n",
    "\n",
    "else:\n",
    "    while True:\n",
    "        first = first + plus\n",
    "        room+= 1\n",
    "\n",
    "        if N <= first:\n",
    "            print(room)\n",
    "            break\n",
    "        plus += 6"
   ]
  },
  {
   "cell_type": "markdown",
   "metadata": {},
   "source": [
    "# Problem 2839. 설탕 배달"
   ]
  },
  {
   "cell_type": "code",
   "execution_count": null,
   "metadata": {},
   "outputs": [],
   "source": []
  },
  {
   "cell_type": "markdown",
   "metadata": {},
   "source": [
    "# Problem 1193. 분수 찾기"
   ]
  },
  {
   "cell_type": "markdown",
   "metadata": {},
   "source": [
    "2 - 1, 3 - 2, 4 - 3, 5 - 4, 6 - 5"
   ]
  },
  {
   "cell_type": "code",
   "execution_count": 5,
   "metadata": {},
   "outputs": [
    {
     "name": "stdout",
     "output_type": "stream",
     "text": [
      "20\n",
      "2/5\n"
     ]
    }
   ],
   "source": [
    "n=int(input())\n",
    "\n",
    "\n",
    "i=0\n",
    "su=0\n",
    "tmp=[]\n",
    "while True:\n",
    "    i+=1\n",
    "    su+=i\n",
    "    if su>n:\n",
    "        su-=i\n",
    "        break\n",
    "    tmp.append(i)\n",
    "\n",
    "if n == su:\n",
    "    t1=tmp[-1]\n",
    "    s1=max(tmp)\n",
    "if n != su:\n",
    "    t1=n-su\n",
    "    s1=max(tmp)+1\n",
    "\n",
    "for i in range(1,s1+1):\n",
    "    if i == t1:\n",
    "        print(s1+1-i,'/',i,sep='')\n"
   ]
  },
  {
   "cell_type": "code",
   "execution_count": null,
   "metadata": {},
   "outputs": [],
   "source": []
  },
  {
   "cell_type": "code",
   "execution_count": 10,
   "metadata": {
    "scrolled": true
   },
   "outputs": [
    {
     "name": "stdout",
     "output_type": "stream",
     "text": [
      "15\n",
      "1/5\n"
     ]
    }
   ],
   "source": [
    "X=int(input())\n",
    "\n",
    "line=1\n",
    "while X>line:\n",
    "    X-=line\n",
    "    line+=1\n",
    "    \n",
    "if line%2==0:\n",
    "    a=X\n",
    "    b=line-X+1\n",
    "else:\n",
    "    a=line-X+1\n",
    "    b=X\n",
    "    \n",
    "print(a, '/', b, sep='')"
   ]
  },
  {
   "cell_type": "markdown",
   "metadata": {},
   "source": [
    "# Problem 2869. 달팽이는 올라가고 싶다"
   ]
  },
  {
   "cell_type": "markdown",
   "metadata": {},
   "source": [
    "- 문제: 땅 위에 달팽이가 있다. 이 달팽이는 높이가 V미터인 나무 막대를 올라갈 것이다. 달팽이는 낮에 A미터 올라갈 수 있다. 하지만, 밤에 잠을 자는 동안 B미터 미끄러진다. 또, 정상에 올라간 후에는 미끄러지지 않는다. 달팽이가 나무 막대를 모두 올라가려면, 며칠이 걸리는지 구하는 프로그램을 작성하시오.\n",
    "- 입력: 첫째 줄에 세 정수 A, B, V가 공백으로 구분되어서 주어진다. (1 ≤ B < A ≤ V ≤ 1,000,000,000)\n",
    "- 출력: 첫째 줄에 달팽이가 나무 막대를 모두 올라가는데 며칠이 걸리는지 출력한다."
   ]
  },
  {
   "cell_type": "code",
   "execution_count": 38,
   "metadata": {},
   "outputs": [
    {
     "name": "stdout",
     "output_type": "stream",
     "text": [
      "3 1 8\n",
      "4\n"
     ]
    }
   ],
   "source": [
    "import math\n",
    "a, b, s = map(int,input().split())\n",
    "\n",
    "tm=s-a\n",
    "tmp=a-b\n",
    "\n",
    "s1=math.ceil(tm/tmp)\n",
    "\n",
    "print(s1+1)"
   ]
  },
  {
   "cell_type": "markdown",
   "metadata": {},
   "source": [
    "# Problem 10250. ACM 호텔"
   ]
  },
  {
   "cell_type": "code",
   "execution_count": 164,
   "metadata": {},
   "outputs": [
    {
     "name": "stdout",
     "output_type": "stream",
     "text": [
      "30 50 72\n",
      "1203\n"
     ]
    }
   ],
   "source": [
    "s=int(input())\n",
    "\n",
    "for i in range(s):    \n",
    "    h,w,n= map(int,input().split())\n",
    "\n",
    "    x=((n-1)//h)+1\n",
    "    y=x-1\n",
    "\n",
    "    if x<10:\n",
    "        print(str(n-y*h)+'0'+str(x))\n",
    "    else:\n",
    "        print(str(n-y*h)+str(x))"
   ]
  },
  {
   "cell_type": "code",
   "execution_count": 107,
   "metadata": {},
   "outputs": [
    {
     "name": "stdout",
     "output_type": "stream",
     "text": [
      "1\n",
      "2 99 99\n",
      "150\n"
     ]
    }
   ],
   "source": [
    "n1=int(input())\n",
    "\n",
    "for j in range(n1):\n",
    "    h,w,n=map(int,input().split())\n",
    "       \n",
    "    co=0\n",
    "\n",
    "    for i in range(1,w+1):\n",
    "        for j in range(1,h+1):\n",
    "            \n",
    "            co += 1\n",
    "            if co == n:\n",
    "\n",
    "                if i<10:\n",
    "                    print(str(j)+\"0\"+str(i))\n",
    "                else:\n",
    "                    print(str(j)+str(i))"
   ]
  },
  {
   "cell_type": "markdown",
   "metadata": {},
   "source": [
    "# Problem 2775. 부녀회장이 될테야"
   ]
  },
  {
   "cell_type": "code",
   "execution_count": null,
   "metadata": {},
   "outputs": [],
   "source": []
  },
  {
   "cell_type": "code",
   "execution_count": null,
   "metadata": {},
   "outputs": [],
   "source": []
  },
  {
   "cell_type": "code",
   "execution_count": null,
   "metadata": {},
   "outputs": [],
   "source": []
  },
  {
   "cell_type": "code",
   "execution_count": null,
   "metadata": {},
   "outputs": [],
   "source": []
  }
 ],
 "metadata": {
  "kernelspec": {
   "display_name": "Python 3",
   "language": "python",
   "name": "python3"
  },
  "language_info": {
   "codemirror_mode": {
    "name": "ipython",
    "version": 3
   },
   "file_extension": ".py",
   "mimetype": "text/x-python",
   "name": "python",
   "nbconvert_exporter": "python",
   "pygments_lexer": "ipython3",
   "version": "3.7.4"
  }
 },
 "nbformat": 4,
 "nbformat_minor": 2
}
