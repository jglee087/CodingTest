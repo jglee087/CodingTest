{
 "cells": [
  {
   "cell_type": "markdown",
   "metadata": {},
   "source": [
    "# BaekJoon Stage 2(If문)"
   ]
  },
  {
   "cell_type": "markdown",
   "metadata": {},
   "source": [
    "### Problem 1330. 두 수 비교하기 \n",
    "- 문제: 두 정수 A와 B가 주어졌을 때, A와 B를 비교하는 프로그램을 작성하시오.\n",
    "- 입력: 첫째 줄에 A와 B가 주어진다. A와 B는 공백 한 칸으로 구분되어져 있다.\n",
    "- 출력: 첫째 줄에 다음 세 가지 중 하나를 출력한다.\n",
    "\n",
    "A가 B보다 큰 경우에는 '>'를 출력한다.  \n",
    "A가 B보다 작은 경우에는 '<'를 출력한다.  \n",
    "A와 B가 같은 경우에는 '=='를 출력한다.  "
   ]
  },
  {
   "cell_type": "code",
   "execution_count": null,
   "metadata": {},
   "outputs": [],
   "source": [
    "a, b = map(int, input().split())\n",
    "if a<b:\n",
    "    print('<')\n",
    "elif a>b:\n",
    "    print('>')\n",
    "else:\n",
    "    print('==')"
   ]
  },
  {
   "cell_type": "markdown",
   "metadata": {},
   "source": [
    "### Problem 9498. 시험 성적\n",
    "- 문제: 시험 점수를 입력받아 90 ~ 100점은 A, 80 ~ 89점은 B, 70 ~ 79점은 C, 60 ~ 69점은 D, 나머지 점수는 F를 출력하는 프로그램을 작성하시오.\n",
    "- 입력: 첫째 줄에 시험 점수가 주어진다. 시험 점수는 0보다 크거나 같고, 100보다 작거나 같은 정수이다.\n",
    "- 출력: 시험 성적을 출력한다."
   ]
  },
  {
   "cell_type": "code",
   "execution_count": null,
   "metadata": {},
   "outputs": [],
   "source": [
    "score = int(input())\n",
    "if score >= 90:\n",
    "    print('A')\n",
    "elif score >=80:\n",
    "    print('B')\n",
    "elif score >= 70:\n",
    "    print('C')\n",
    "elif score >= 60:\n",
    "    print('D')\n",
    "else:\n",
    "    print('F')"
   ]
  },
  {
   "cell_type": "markdown",
   "metadata": {},
   "source": [
    "# Problem 2753. 윤년\n",
    "- 문제: 연도가 주어졌을 때, 윤년이면 1, 아니면 0을 출력하는 프로그램을 작성하시오. 윤년은 연도가 4의 배수이면서, 100의 배수가 아닐 때 또는 400의 배수일 때이다. 예를 들어, 2012년은 4의 배수이면서 100의 배수가 아니라서 윤년이다. 1900년은 100의 배수이고 400의 배수는 아니기 때문에 윤년이 아니다. 하지만, 2000년은 400의 배수이기 때문에 윤년이다.\n",
    "- 입력: 첫째 줄에 연도가 주어진다. 연도는 1보다 크거나 같고, 4000보다 작거나 같은 자연수이다.\n",
    "- 출력: 첫째 줄에 윤년이면 1, 아니면 0을 출력한다."
   ]
  },
  {
   "cell_type": "code",
   "execution_count": null,
   "metadata": {},
   "outputs": [],
   "source": [
    "year = int(input())\n",
    "\n",
    "if year % 4 ==0:\n",
    "    if year % 100 != 0 or year % 400 ==0:\n",
    "        print('1')\n",
    "    else:\n",
    "        print('0')\n",
    "else:\n",
    "    print('0')"
   ]
  },
  {
   "cell_type": "markdown",
   "metadata": {},
   "source": [
    "# Problem 5543. 상근날드\n",
    "- 문제: 상근날드에서 가장 잘 팔리는 메뉴는 세트 메뉴이다. 주문할 때, 자신이 원하는 햄버거와 음료를 하나씩 골라, 세트로 구매하면, 가격의 합계에서 50원을 뺀 가격이 세트 메뉴의 가격이 된다. 햄버거는 총 3종류 상덕버거, 중덕버거, 하덕버거가 있고, 음료는 콜라와 사이다 두 종류가 있다. 햄버거와 음료의 가격이 주어졌을 때, 가장 싼 세트 메뉴의 가격을 출력하는 프로그램을 작성하시오.\n",
    "- 입력: 입력은 총 다섯 줄이다. 첫째 줄에는 상덕버거, 둘째 줄에는 중덕버거, 셋째 줄에는 하덕버거의 가격이 주어진다. 넷째 줄에는 콜라의 가격, 다섯째 줄에는 사이다의 가격이 주어진다. 모든 가격은 100원 이상, 2000원 이하이다.\n",
    "- 출력: 첫째 줄에 가장 싼 세트 메뉴의 가격을 출력한다."
   ]
  },
  {
   "cell_type": "code",
   "execution_count": null,
   "metadata": {},
   "outputs": [],
   "source": [
    "sc1=int(input())\n",
    "sc2=int(input())\n",
    "sc3=int(input())\n",
    "bev1=int(input())\n",
    "bev2=int(input())\n",
    "\n",
    "v1=0\n",
    "v2=0\n",
    "\n",
    "if sc1 > sc2:\n",
    "    v1=sc2\n",
    "else:\n",
    "    v1=sc1\n",
    "    \n",
    "if v1 > sc3:\n",
    "    v1=sc3\n",
    "    \n",
    "if bev1 > bev2:\n",
    "    v2= bev2\n",
    "else:\n",
    "    v2= bev1\n",
    "    \n",
    "print(v1+v2-50)"
   ]
  },
  {
   "cell_type": "markdown",
   "metadata": {},
   "source": [
    "#### 삼항연산자 사용!"
   ]
  },
  {
   "cell_type": "code",
   "execution_count": 8,
   "metadata": {},
   "outputs": [
    {
     "name": "stdout",
     "output_type": "stream",
     "text": [
      "800\n",
      "700\n",
      "900\n",
      "198\n",
      "330\n",
      "848\n"
     ]
    }
   ],
   "source": [
    "sc1=int(input())\n",
    "sc2=int(input())\n",
    "sc3=int(input())\n",
    "bev1=int(input())\n",
    "bev2=int(input())\n",
    "\n",
    "res1 = sc2 if sc1>sc2 else sc1\n",
    "res1 = sc3 if res1>sc3 else res1\n",
    "\n",
    "res2 = bev2 if bev1 > bev2 else bev1\n",
    "\n",
    "print(res1+res2-50)"
   ]
  },
  {
   "cell_type": "markdown",
   "metadata": {},
   "source": [
    "# Problem 10817. 세 수\n",
    "- 문제: 세 정수 A, B, C가 주어진다. 이때, 두 번째로 큰 정수를 출력하는 프로그램을 작성하시오. \n",
    "- 입력: 첫째 줄에 세 정수 A, B, C가 공백으로 구분되어 주어진다. (1 ≤ A, B, C ≤ 100)\n",
    "- 출력: 두 번째로 큰 정수를 출력한다."
   ]
  },
  {
   "cell_type": "code",
   "execution_count": 32,
   "metadata": {},
   "outputs": [
    {
     "name": "stdout",
     "output_type": "stream",
     "text": [
      "1 2 3\n",
      "2\n"
     ]
    }
   ],
   "source": [
    "a, b, c = map(int,input().split())\n",
    "\n",
    "if(a >= b):\n",
    "    if(a >= c):\n",
    "        if(b >= c):\n",
    "            print(b)\n",
    "        else:\n",
    "            print(c)\n",
    "    else:\n",
    "        print(a)\n",
    "else:\n",
    "    if(b >= c):\n",
    "        if(a >= c):\n",
    "            print(a)\n",
    "        else:\n",
    "            print(c)\n",
    "    else:\n",
    "        print(b)"
   ]
  },
  {
   "cell_type": "code",
   "execution_count": 39,
   "metadata": {},
   "outputs": [
    {
     "name": "stdout",
     "output_type": "stream",
     "text": [
      "10 20 20\n",
      "20\n"
     ]
    }
   ],
   "source": [
    "s = list(map(int,input().split()))\n",
    "s.sort()\n",
    "print(s[-2])"
   ]
  },
  {
   "cell_type": "markdown",
   "metadata": {},
   "source": [
    "# Problem 14681. 사분면 고르기"
   ]
  },
  {
   "cell_type": "code",
   "execution_count": null,
   "metadata": {},
   "outputs": [],
   "source": [
    "n1=int(input())\n",
    "n2=int(input())\n",
    "\n",
    "if n1 > 0:\n",
    "    if n2>0:\n",
    "        print(1)\n",
    "    else:\n",
    "        print(4)\n",
    "else:\n",
    "    if n2>0:\n",
    "        print(2)\n",
    "    else:\n",
    "        print(3)"
   ]
  },
  {
   "cell_type": "code",
   "execution_count": null,
   "metadata": {},
   "outputs": [],
   "source": []
  },
  {
   "cell_type": "markdown",
   "metadata": {},
   "source": [
    "# Problem 2884. 알람시계"
   ]
  },
  {
   "cell_type": "code",
   "execution_count": 24,
   "metadata": {},
   "outputs": [
    {
     "name": "stdout",
     "output_type": "stream",
     "text": [
      "10 10\n",
      "9 25\n"
     ]
    }
   ],
   "source": [
    "ho, mi = map(int,input().split())\n",
    "\n",
    "to = 60*ho+mi\n",
    "re = to -45\n",
    "\n",
    "s1=re//60\n",
    "s2=re-s1*60\n",
    "\n",
    "if re < 0:\n",
    "    re+=1440\n",
    "    s1=re//60\n",
    "    s2=re-s1*60\n",
    "\n",
    "print(s1,s2)    "
   ]
  },
  {
   "cell_type": "code",
   "execution_count": 22,
   "metadata": {},
   "outputs": [],
   "source": []
  }
 ],
 "metadata": {
  "kernelspec": {
   "display_name": "Python 3",
   "language": "python",
   "name": "python3"
  },
  "language_info": {
   "codemirror_mode": {
    "name": "ipython",
    "version": 3
   },
   "file_extension": ".py",
   "mimetype": "text/x-python",
   "name": "python",
   "nbconvert_exporter": "python",
   "pygments_lexer": "ipython3",
   "version": "3.7.4"
  }
 },
 "nbformat": 4,
 "nbformat_minor": 2
}
