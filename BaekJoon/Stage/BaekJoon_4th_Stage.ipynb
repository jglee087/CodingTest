{
 "cells": [
  {
   "cell_type": "markdown",
   "metadata": {},
   "source": [
    "# BaekJoon Stage 4(While문)"
   ]
  },
  {
   "cell_type": "markdown",
   "metadata": {},
   "source": [
    "### Problem 10952. A+B (5)\n",
    "- 문제: 두 정수 A와 B를 입력받은 다음, A+B를 출력하는 프로그램을 작성하시오.\n",
    "- 입력: 입력은 여러 개의 테스트 케이스로 이루어져 있다. 각 테스트 케이스는 한 줄로 이루어져 있으며, 각 줄에 A와 B가 주어진다. (0 < A, B < 10) 입력의 마지막에는 0 두 개가 들어온다.\n",
    "- 출력: 각 테스트 케이스마다 A+B를 출력한다."
   ]
  },
  {
   "cell_type": "markdown",
   "metadata": {},
   "source": [
    "예제 입력:   \n",
    "1 1   \n",
    "2 3   \n",
    "3 4   \n",
    "9 8   \n",
    "5 2   \n",
    "0 0   \n",
    "예제 출력:   \n",
    "2   \n",
    "5   \n",
    "7   \n",
    "17   \n",
    "7   "
   ]
  },
  {
   "cell_type": "code",
   "execution_count": 7,
   "metadata": {},
   "outputs": [
    {
     "name": "stdout",
     "output_type": "stream",
     "text": [
      "1 1\n",
      "2\n",
      "2 3\n",
      "5\n",
      "3 4\n",
      "7\n",
      "9 8\n",
      "17\n",
      "5 2\n",
      "7\n",
      "0 0\n"
     ]
    }
   ],
   "source": [
    "while True:\n",
    "    a, b=map(int,input().split())\n",
    "    if a==0 & b==0:\n",
    "        break\n",
    "    print(a+b)\n",
    "    "
   ]
  },
  {
   "cell_type": "code",
   "execution_count": null,
   "metadata": {},
   "outputs": [],
   "source": []
  }
 ],
 "metadata": {
  "kernelspec": {
   "display_name": "Python 3",
   "language": "python",
   "name": "python3"
  },
  "language_info": {
   "codemirror_mode": {
    "name": "ipython",
    "version": 3
   },
   "file_extension": ".py",
   "mimetype": "text/x-python",
   "name": "python",
   "nbconvert_exporter": "python",
   "pygments_lexer": "ipython3",
   "version": "3.7.4"
  }
 },
 "nbformat": 4,
 "nbformat_minor": 2
}
